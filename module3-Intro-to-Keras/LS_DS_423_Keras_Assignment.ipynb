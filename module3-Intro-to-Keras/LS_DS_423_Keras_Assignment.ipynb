{
 "cells": [
  {
   "cell_type": "markdown",
   "metadata": {
    "colab_type": "text",
    "id": "pBQsZEJmubLs"
   },
   "source": [
    "<img align=\"left\" src=\"https://lever-client-logos.s3.amazonaws.com/864372b1-534c-480e-acd5-9711f850815c-1524247202159.png\" width=200>\n",
    "<br></br>\n",
    "\n",
    "# Neural Network Framework (Keras)\n",
    "\n",
    "## *Data Science Unit 4 Sprint 2 Assignmnet 3*\n",
    "\n",
    "## Use the Keras Library to build a Multi-Layer Perceptron Model on the Boston Housing dataset\n",
    "\n",
    "- The Boston Housing dataset comes with the Keras library so use Keras to import it into your notebook. \n",
    "- Normalize the data (all features should have roughly the same scale)\n",
    "- Import the type of model and layers that you will need from Keras.\n",
    "- Instantiate a model object and use `model.add()` to add layers to your model\n",
    "- Since this is a regression model you will have a single output node in the final layer.\n",
    "- Use activation functions that are appropriate for this task\n",
    "- Compile your model\n",
    "- Fit your model and report its accuracy in terms of Mean Squared Error\n",
    "- Use the history object that is returned from model.fit to make graphs of the model's loss or train/validation accuracies by epoch. \n",
    "- Run this same data through a linear regression model. Which achieves higher accuracy?\n",
    "- Do a little bit of feature engineering and see how that affects your neural network model. (you will need to change your model to accept more inputs)\n",
    "- After feature engineering, which model sees a greater accuracy boost due to the new features?"
   ]
  },
  {
   "cell_type": "code",
   "execution_count": 159,
   "metadata": {},
   "outputs": [],
   "source": [
    "\"\"\"\n",
    "Import Statment:\n",
    "\"\"\"\n",
    "from tensorflow import keras\n",
    "import matplotlib.pyplot as plt\n",
    "from tensorflow.keras.layers import Dense\n",
    "from tensorflow.keras.models import Sequential\n",
    "from sklearn.metrics import mean_squared_error\n",
    "from tensorflow.keras.utils import to_categorical\n",
    "from sklearn.linear_model import LinearRegression\n",
    "from tensorflow.keras.datasets import fashion_mnist"
   ]
  },
  {
   "cell_type": "code",
   "execution_count": 160,
   "metadata": {
    "colab": {},
    "colab_type": "code",
    "id": "8NLTAR87uYJ-"
   },
   "outputs": [],
   "source": [
    "from keras.datasets import boston_housing\n",
    "\n",
    "(X_train, y_train), (X_test, y_test) = boston_housing.load_data()"
   ]
  },
  {
   "cell_type": "code",
   "execution_count": 161,
   "metadata": {},
   "outputs": [
    {
     "name": "stdout",
     "output_type": "stream",
     "text": [
      "Training Data: (404, 13)\n",
      "Test Data: (102, 13)\n",
      "Training Sample: [ 18.0846   0.      18.1      0.       0.679    6.434  100.       1.8347\n",
      "  24.     666.      20.2     27.25    29.05  ]\n",
      "Training Target Sample: 15.2\n"
     ]
    }
   ],
   "source": [
    "print(f'Training Data: {X_train.shape}')\n",
    "print(f'Test Data: {X_test.shape}')\n",
    "print(f'Training Sample: {X_test[0]}')\n",
    "print(f'Training Target Sample: {y_train[0]}')"
   ]
  },
  {
   "cell_type": "code",
   "execution_count": 162,
   "metadata": {},
   "outputs": [],
   "source": [
    "means = X_train.mean(axis=0)\n",
    "std = X_train.std(axis=0)\n",
    "\n",
    "X_train = X_train - means\n",
    "X_train = X_train / std\n",
    "\n",
    "X_test = X_test - means\n",
    "X_test = X_test / std"
   ]
  },
  {
   "cell_type": "code",
   "execution_count": 165,
   "metadata": {},
   "outputs": [
    {
     "name": "stdout",
     "output_type": "stream",
     "text": [
      "Model: \"sequential_19\"\n",
      "_________________________________________________________________\n",
      "Layer (type)                 Output Shape              Param #   \n",
      "=================================================================\n",
      "dense_59 (Dense)             (None, 16)                224       \n",
      "_________________________________________________________________\n",
      "dense_60 (Dense)             (None, 16)                272       \n",
      "_________________________________________________________________\n",
      "dense_61 (Dense)             (None, 1)                 17        \n",
      "=================================================================\n",
      "Total params: 513\n",
      "Trainable params: 513\n",
      "Non-trainable params: 0\n",
      "_________________________________________________________________\n"
     ]
    }
   ],
   "source": [
    "boston_model = Sequential()\n",
    "#Input => Hidden\n",
    "boston_model.add(Dense(16, input_dim=13, activation='relu'))\n",
    "#Hidden\n",
    "boston_model.add(Dense(16, activation ='relu'))\n",
    "#Output\n",
    "boston_model.add(Dense(1, activation='linear'))\n",
    "# Compile\n",
    "boston_model.compile(loss='mean_squared_error', optimizer='adam', metrics =['mean_squared_error'])\n",
    "\n",
    "boston_model.summary()"
   ]
  },
  {
   "cell_type": "code",
   "execution_count": 166,
   "metadata": {},
   "outputs": [
    {
     "name": "stdout",
     "output_type": "stream",
     "text": [
      "102/102 [==============================] - 0s 577us/sample - loss: 21.5604 - mean_squared_error: 21.5604\n",
      "mean_squared_error: 2156.0441970825195\n"
     ]
    }
   ],
   "source": [
    "history = boston_model.fit(X_train, y_train, batch_size=32, epochs=200, validation_split=1, verbose=0)\n",
    "scores = boston_model.evaluate(X_test, y_test)\n",
    "print(f'{boston_model.metrics_names[1]}: {scores[1]*100}')"
   ]
  },
  {
   "cell_type": "code",
   "execution_count": 167,
   "metadata": {},
   "outputs": [
    {
     "name": "stdout",
     "output_type": "stream",
     "text": [
      "dict_keys(['loss', 'mean_squared_error'])\n"
     ]
    }
   ],
   "source": [
    "# why isn't my validation in history.keys()?\n",
    "\n",
    "print(history.history.keys())"
   ]
  },
  {
   "cell_type": "code",
   "execution_count": 168,
   "metadata": {},
   "outputs": [
    {
     "data": {
      "image/png": "[encoded data removed]",
      "text/plain": [
       "<Figure size 432x288 with 1 Axes>"
      ]
     },
     "metadata": {
      "needs_background": "light"
     },
     "output_type": "display_data"
    }
   ],
   "source": [
    "# Plot training & validation loss values\n",
    "plt.plot(history.history['loss'])\n",
    "plt.plot(history.history['mean_squared_error'])\n",
    "plt.title('Model loss')\n",
    "plt.ylabel('Loss')\n",
    "plt.xlabel('Epoch')\n",
    "plt.legend(['Train', 'Test'], loc='upper right')\n",
    "plt.show()"
   ]
  },
  {
   "cell_type": "markdown",
   "metadata": {},
   "source": [
    "### Linear regression:"
   ]
  },
  {
   "cell_type": "code",
   "execution_count": 87,
   "metadata": {},
   "outputs": [
    {
     "data": {
      "text/plain": [
       "LinearRegression(copy_X=True, fit_intercept=True, n_jobs=None,\n",
       "         normalize=False)"
      ]
     },
     "execution_count": 87,
     "metadata": {},
     "output_type": "execute_result"
    }
   ],
   "source": [
    "model = LinearRegression()\n",
    "model.fit(X_train, y_train)"
   ]
  },
  {
   "cell_type": "code",
   "execution_count": 88,
   "metadata": {},
   "outputs": [],
   "source": [
    "y_pred = model.predict(X_test)"
   ]
  },
  {
   "cell_type": "code",
   "execution_count": 99,
   "metadata": {},
   "outputs": [
    {
     "name": "stdout",
     "output_type": "stream",
     "text": [
      "Training data Linear Regression: 23.19559925642301\n"
     ]
    }
   ],
   "source": [
    "# Let's compare our Accuracy:\n",
    "print('Training data Linear Regression:',mean_squared_error(y_test, y_pred))"
   ]
  },
  {
   "cell_type": "markdown",
   "metadata": {
    "colab_type": "text",
    "id": "SfcFnOONyuNm"
   },
   "source": [
    "## Use the Keras Library to build an image recognition network using the Fashion-MNIST dataset (also comes with keras)\n",
    "\n",
    "- Load and preprocess the image data similar to how we preprocessed the MNIST data in class.\n",
    "- Make sure to one-hot encode your category labels\n",
    "- Make sure to have your final layer have as many nodes as the number of classes that you want to predict.\n",
    "- Try different hyperparameters. What is the highest accuracy that you are able to achieve.\n",
    "- Use the history object that is returned from model.fit to make graphs of the model's loss or train/validation accuracies by epoch. \n",
    "- Remember that neural networks fall prey to randomness so you may need to run your model multiple times (or use Cross Validation) in order to tell if a change to a hyperparameter is truly producing better results."
   ]
  },
  {
   "cell_type": "code",
   "execution_count": 138,
   "metadata": {
    "colab": {},
    "colab_type": "code",
    "id": "szi6-IpuzaH1"
   },
   "outputs": [],
   "source": [
    "# Train and Test our set:\n",
    "(X_train, y_train), (X_test, y_test) = fashion_mnist.load_data()"
   ]
  },
  {
   "cell_type": "code",
   "execution_count": 140,
   "metadata": {},
   "outputs": [
    {
     "data": {
      "text/plain": [
       "((60000, 28, 28), (10000, 28, 28))"
      ]
     },
     "execution_count": 140,
     "metadata": {},
     "output_type": "execute_result"
    }
   ],
   "source": [
    "X_train.shape, X_test.shape"
   ]
  },
  {
   "cell_type": "code",
   "execution_count": 141,
   "metadata": {},
   "outputs": [],
   "source": [
    "# Reshaping our data into single vectors:\n",
    "X_train = X_train.reshape(60000, 784)\n",
    "X_test = X_test.reshape(10000, 784)"
   ]
  },
  {
   "cell_type": "code",
   "execution_count": 142,
   "metadata": {},
   "outputs": [],
   "source": [
    "X_train = X_train.astype('float32')\n",
    "X_test = X_test.astype('float32')"
   ]
  },
  {
   "cell_type": "code",
   "execution_count": 143,
   "metadata": {},
   "outputs": [],
   "source": [
    "# Correct Encoding on Y\n",
    "# What softmax expects = [0,0,0,0,0,1,0,0,0,0]\n",
    "\n",
    "# Thank you, Aaron! 1-10\n",
    "\n",
    "y_train = keras.utils.to_categorical(y_train, num_classes=10)\n",
    "y_test = keras.utils.to_categorical(y_test, num_classes=10)"
   ]
  },
  {
   "cell_type": "code",
   "execution_count": 144,
   "metadata": {},
   "outputs": [
    {
     "name": "stdout",
     "output_type": "stream",
     "text": [
      "Model: \"sequential_16\"\n",
      "_________________________________________________________________\n",
      "Layer (type)                 Output Shape              Param #   \n",
      "=================================================================\n",
      "dense_48 (Dense)             (None, 16)                12560     \n",
      "_________________________________________________________________\n",
      "dense_49 (Dense)             (None, 16)                272       \n",
      "_________________________________________________________________\n",
      "dense_50 (Dense)             (None, 16)                272       \n",
      "_________________________________________________________________\n",
      "dense_51 (Dense)             (None, 16)                272       \n",
      "_________________________________________________________________\n",
      "dense_52 (Dense)             (None, 10)                170       \n",
      "=================================================================\n",
      "Total params: 13,546\n",
      "Trainable params: 13,546\n",
      "Non-trainable params: 0\n",
      "_________________________________________________________________\n"
     ]
    }
   ],
   "source": [
    "fashion_model = Sequential()\n",
    "\n",
    "# Input => Hidden\n",
    "fashion_model.add(Dense(16, input_dim=784, activation='relu'))\n",
    "# Hidden\n",
    "fashion_model.add(Dense(16, activation='relu'))\n",
    "# Hidden\n",
    "fashion_model.add(Dense(16, activation='relu'))\n",
    "# Hidden\n",
    "fashion_model.add(Dense(16, activation='relu'))\n",
    "# Output\n",
    "fashion_model.add(Dense(10,activation='softmax'))\n",
    "\n",
    "#Compile\n",
    "fashion_model.compile(loss='categorical_crossentropy',\n",
    "                    optimizer='adam',\n",
    "                    metrics=['accuracy'])\n",
    "\n",
    "fashion_model.summary()"
   ]
  },
  {
   "cell_type": "code",
   "execution_count": 145,
   "metadata": {},
   "outputs": [
    {
     "name": "stdout",
     "output_type": "stream",
     "text": [
      "Train on 54000 samples, validate on 6000 samples\n",
      "Epoch 1/100\n",
      "54000/54000 [==============================] - 1s 21us/sample - loss: 67.7542 - accuracy: 0.1010 - val_loss: 25.4460 - val_accuracy: 0.0963\n",
      "Epoch 2/100\n",
      "54000/54000 [==============================] - 0s 3us/sample - loss: 25.4379 - accuracy: 0.1004 - val_loss: 14.4849 - val_accuracy: 0.0957\n",
      "Epoch 3/100\n",
      "54000/54000 [==============================] - 0s 4us/sample - loss: 14.4134 - accuracy: 0.0959 - val_loss: 10.1945 - val_accuracy: 0.0960\n",
      "Epoch 4/100\n",
      "54000/54000 [==============================] - 0s 3us/sample - loss: 10.2937 - accuracy: 0.0915 - val_loss: 8.0892 - val_accuracy: 0.0983\n",
      "Epoch 5/100\n",
      "54000/54000 [==============================] - 0s 3us/sample - loss: 8.1971 - accuracy: 0.0987 - val_loss: 6.7925 - val_accuracy: 0.1170\n",
      "Epoch 6/100\n",
      "54000/54000 [==============================] - 0s 3us/sample - loss: 6.8267 - accuracy: 0.1177 - val_loss: 5.7797 - val_accuracy: 0.1350\n",
      "Epoch 7/100\n",
      "54000/54000 [==============================] - 0s 3us/sample - loss: 5.8007 - accuracy: 0.1316 - val_loss: 5.1136 - val_accuracy: 0.1515\n",
      "Epoch 8/100\n",
      "54000/54000 [==============================] - 0s 3us/sample - loss: 5.1462 - accuracy: 0.1478 - val_loss: 4.8270 - val_accuracy: 0.1420\n",
      "Epoch 9/100\n",
      "54000/54000 [==============================] - 0s 3us/sample - loss: 4.8707 - accuracy: 0.1340 - val_loss: 4.5738 - val_accuracy: 0.0890\n",
      "Epoch 10/100\n",
      "54000/54000 [==============================] - 0s 3us/sample - loss: 4.6125 - accuracy: 0.0869 - val_loss: 4.3083 - val_accuracy: 0.0783\n",
      "Epoch 11/100\n",
      "54000/54000 [==============================] - 0s 4us/sample - loss: 4.3163 - accuracy: 0.0803 - val_loss: 4.1108 - val_accuracy: 0.0835\n",
      "Epoch 12/100\n",
      "54000/54000 [==============================] - 0s 3us/sample - loss: 4.0945 - accuracy: 0.0864 - val_loss: 3.8699 - val_accuracy: 0.0870\n",
      "Epoch 13/100\n",
      "54000/54000 [==============================] - 0s 3us/sample - loss: 3.8512 - accuracy: 0.0880 - val_loss: 3.6017 - val_accuracy: 0.0793\n",
      "Epoch 14/100\n",
      "54000/54000 [==============================] - 0s 3us/sample - loss: 3.6083 - accuracy: 0.0852 - val_loss: 3.4178 - val_accuracy: 0.1185\n",
      "Epoch 15/100\n",
      "54000/54000 [==============================] - 0s 3us/sample - loss: 3.4379 - accuracy: 0.1221 - val_loss: 3.2556 - val_accuracy: 0.1275\n",
      "Epoch 16/100\n",
      "54000/54000 [==============================] - 0s 3us/sample - loss: 3.2773 - accuracy: 0.1286 - val_loss: 3.1171 - val_accuracy: 0.1365\n",
      "Epoch 17/100\n",
      "54000/54000 [==============================] - 0s 3us/sample - loss: 3.1336 - accuracy: 0.1401 - val_loss: 3.0281 - val_accuracy: 0.1072\n",
      "Epoch 18/100\n",
      "54000/54000 [==============================] - 0s 3us/sample - loss: 3.0312 - accuracy: 0.1080 - val_loss: 2.9342 - val_accuracy: 0.1083\n",
      "Epoch 19/100\n",
      "54000/54000 [==============================] - 0s 3us/sample - loss: 2.9348 - accuracy: 0.1090 - val_loss: 2.8374 - val_accuracy: 0.1068\n",
      "Epoch 20/100\n",
      "54000/54000 [==============================] - 0s 3us/sample - loss: 2.8422 - accuracy: 0.1119 - val_loss: 2.7621 - val_accuracy: 0.1122\n",
      "Epoch 21/100\n",
      "54000/54000 [==============================] - 0s 3us/sample - loss: 2.7694 - accuracy: 0.1215 - val_loss: 2.6951 - val_accuracy: 0.1778\n",
      "Epoch 22/100\n",
      "54000/54000 [==============================] - 0s 4us/sample - loss: 2.7028 - accuracy: 0.1831 - val_loss: 2.6304 - val_accuracy: 0.1883\n",
      "Epoch 23/100\n",
      "54000/54000 [==============================] - 0s 3us/sample - loss: 2.6354 - accuracy: 0.1937 - val_loss: 2.5767 - val_accuracy: 0.1993\n",
      "Epoch 24/100\n",
      "54000/54000 [==============================] - 0s 3us/sample - loss: 2.5773 - accuracy: 0.2067 - val_loss: 2.5303 - val_accuracy: 0.2147\n",
      "Epoch 25/100\n",
      "54000/54000 [==============================] - 0s 3us/sample - loss: 2.5273 - accuracy: 0.2175 - val_loss: 2.4832 - val_accuracy: 0.2275\n",
      "Epoch 26/100\n",
      "54000/54000 [==============================] - 0s 4us/sample - loss: 2.4786 - accuracy: 0.2280 - val_loss: 2.4360 - val_accuracy: 0.2343\n",
      "Epoch 27/100\n",
      "54000/54000 [==============================] - 0s 3us/sample - loss: 2.4309 - accuracy: 0.2396 - val_loss: 2.3936 - val_accuracy: 0.2217\n",
      "Epoch 28/100\n",
      "54000/54000 [==============================] - 0s 3us/sample - loss: 2.3890 - accuracy: 0.2256 - val_loss: 2.3584 - val_accuracy: 0.2282\n",
      "Epoch 29/100\n",
      "54000/54000 [==============================] - 0s 3us/sample - loss: 2.3521 - accuracy: 0.2346 - val_loss: 2.3246 - val_accuracy: 0.2340\n",
      "Epoch 30/100\n",
      "54000/54000 [==============================] - 0s 3us/sample - loss: 2.3166 - accuracy: 0.2411 - val_loss: 2.2907 - val_accuracy: 0.2400\n",
      "Epoch 31/100\n",
      "54000/54000 [==============================] - 0s 3us/sample - loss: 2.2826 - accuracy: 0.2432 - val_loss: 2.2605 - val_accuracy: 0.2392\n",
      "Epoch 32/100\n",
      "54000/54000 [==============================] - 0s 4us/sample - loss: 2.2523 - accuracy: 0.2445 - val_loss: 2.2320 - val_accuracy: 0.2432\n",
      "Epoch 33/100\n",
      "54000/54000 [==============================] - 0s 3us/sample - loss: 2.2238 - accuracy: 0.2481 - val_loss: 2.2039 - val_accuracy: 0.2460\n",
      "Epoch 34/100\n",
      "54000/54000 [==============================] - 0s 4us/sample - loss: 2.1964 - accuracy: 0.2513 - val_loss: 2.1772 - val_accuracy: 0.2535\n",
      "Epoch 35/100\n",
      "54000/54000 [==============================] - 0s 3us/sample - loss: 2.1705 - accuracy: 0.2542 - val_loss: 2.1527 - val_accuracy: 0.2543\n",
      "Epoch 36/100\n",
      "54000/54000 [==============================] - 0s 3us/sample - loss: 2.1465 - accuracy: 0.2566 - val_loss: 2.1290 - val_accuracy: 0.2562\n",
      "Epoch 37/100\n",
      "54000/54000 [==============================] - 0s 3us/sample - loss: 2.1236 - accuracy: 0.2590 - val_loss: 2.1060 - val_accuracy: 0.2598\n",
      "Epoch 38/100\n",
      "54000/54000 [==============================] - 0s 3us/sample - loss: 2.1014 - accuracy: 0.2610 - val_loss: 2.0835 - val_accuracy: 0.2612\n",
      "Epoch 39/100\n",
      "54000/54000 [==============================] - 0s 3us/sample - loss: 2.0797 - accuracy: 0.2630 - val_loss: 2.0613 - val_accuracy: 0.2665\n",
      "Epoch 40/100\n",
      "54000/54000 [==============================] - 0s 3us/sample - loss: 2.0582 - accuracy: 0.2662 - val_loss: 2.0394 - val_accuracy: 0.2712\n",
      "Epoch 41/100\n",
      "54000/54000 [==============================] - 0s 3us/sample - loss: 2.0369 - accuracy: 0.2713 - val_loss: 2.0176 - val_accuracy: 0.2775\n",
      "Epoch 42/100\n",
      "54000/54000 [==============================] - 0s 3us/sample - loss: 2.0154 - accuracy: 0.2757 - val_loss: 1.9964 - val_accuracy: 0.2835\n",
      "Epoch 43/100\n",
      "54000/54000 [==============================] - 0s 4us/sample - loss: 1.9941 - accuracy: 0.2810 - val_loss: 1.9763 - val_accuracy: 0.2867\n",
      "Epoch 44/100\n",
      "54000/54000 [==============================] - 0s 3us/sample - loss: 1.9731 - accuracy: 0.2858 - val_loss: 1.9560 - val_accuracy: 0.2910\n",
      "Epoch 45/100\n",
      "54000/54000 [==============================] - 0s 3us/sample - loss: 1.9524 - accuracy: 0.2920 - val_loss: 1.9352 - val_accuracy: 0.2970\n",
      "Epoch 46/100\n",
      "54000/54000 [==============================] - 0s 3us/sample - loss: 1.9311 - accuracy: 0.2985 - val_loss: 1.9126 - val_accuracy: 0.3065\n",
      "Epoch 47/100\n",
      "54000/54000 [==============================] - 0s 3us/sample - loss: 1.9095 - accuracy: 0.3046 - val_loss: 1.8904 - val_accuracy: 0.3158\n",
      "Epoch 48/100\n",
      "54000/54000 [==============================] - 0s 3us/sample - loss: 1.8889 - accuracy: 0.3119 - val_loss: 1.8696 - val_accuracy: 0.3255\n",
      "Epoch 49/100\n",
      "54000/54000 [==============================] - 0s 3us/sample - loss: 1.8688 - accuracy: 0.3203 - val_loss: 1.8490 - val_accuracy: 0.3293\n",
      "Epoch 50/100\n",
      "54000/54000 [==============================] - 0s 3us/sample - loss: 1.8492 - accuracy: 0.3275 - val_loss: 1.8281 - val_accuracy: 0.3372\n",
      "Epoch 51/100\n",
      "54000/54000 [==============================] - 0s 4us/sample - loss: 1.8297 - accuracy: 0.3334 - val_loss: 1.8089 - val_accuracy: 0.3433\n",
      "Epoch 52/100\n",
      "54000/54000 [==============================] - 0s 3us/sample - loss: 1.8101 - accuracy: 0.3395 - val_loss: 1.7898 - val_accuracy: 0.3497\n",
      "Epoch 53/100\n",
      "54000/54000 [==============================] - 0s 3us/sample - loss: 1.7900 - accuracy: 0.3494 - val_loss: 1.7701 - val_accuracy: 0.3692\n",
      "Epoch 54/100\n",
      "54000/54000 [==============================] - 0s 3us/sample - loss: 1.7696 - accuracy: 0.3705 - val_loss: 1.7508 - val_accuracy: 0.3645\n",
      "Epoch 55/100\n",
      "54000/54000 [==============================] - 0s 4us/sample - loss: 1.7503 - accuracy: 0.3635 - val_loss: 1.7358 - val_accuracy: 0.3693\n",
      "Epoch 56/100\n",
      "54000/54000 [==============================] - 0s 3us/sample - loss: 1.7361 - accuracy: 0.3686 - val_loss: 1.7187 - val_accuracy: 0.3752\n",
      "Epoch 57/100\n",
      "54000/54000 [==============================] - 0s 4us/sample - loss: 1.7200 - accuracy: 0.3734 - val_loss: 1.7015 - val_accuracy: 0.4175\n",
      "Epoch 58/100\n",
      "54000/54000 [==============================] - 0s 3us/sample - loss: 1.7035 - accuracy: 0.4133 - val_loss: 1.6858 - val_accuracy: 0.3995\n",
      "Epoch 59/100\n",
      "54000/54000 [==============================] - 0s 3us/sample - loss: 1.6883 - accuracy: 0.3965 - val_loss: 1.6726 - val_accuracy: 0.4018\n",
      "Epoch 60/100\n",
      "54000/54000 [==============================] - 0s 4us/sample - loss: 1.6753 - accuracy: 0.3967 - val_loss: 1.6564 - val_accuracy: 0.4063\n",
      "Epoch 61/100\n",
      "54000/54000 [==============================] - 0s 3us/sample - loss: 1.6597 - accuracy: 0.3999 - val_loss: 1.6422 - val_accuracy: 0.4090\n",
      "Epoch 62/100\n",
      "54000/54000 [==============================] - 0s 3us/sample - loss: 1.6461 - accuracy: 0.4052 - val_loss: 1.6287 - val_accuracy: 0.4165\n",
      "Epoch 63/100\n",
      "54000/54000 [==============================] - 0s 3us/sample - loss: 1.6334 - accuracy: 0.4108 - val_loss: 1.6159 - val_accuracy: 0.4223\n",
      "Epoch 64/100\n",
      "54000/54000 [==============================] - 0s 3us/sample - loss: 1.6204 - accuracy: 0.4150 - val_loss: 1.6038 - val_accuracy: 0.4230\n",
      "Epoch 65/100\n",
      "54000/54000 [==============================] - 0s 3us/sample - loss: 1.6072 - accuracy: 0.4167 - val_loss: 1.5923 - val_accuracy: 0.4255\n",
      "Epoch 66/100\n",
      "54000/54000 [==============================] - 0s 3us/sample - loss: 1.5946 - accuracy: 0.4182 - val_loss: 1.5816 - val_accuracy: 0.4258\n",
      "Epoch 67/100\n",
      "54000/54000 [==============================] - 0s 3us/sample - loss: 1.5825 - accuracy: 0.4198 - val_loss: 1.5710 - val_accuracy: 0.4298\n",
      "Epoch 68/100\n",
      "54000/54000 [==============================] - 0s 3us/sample - loss: 1.5708 - accuracy: 0.4222 - val_loss: 1.5604 - val_accuracy: 0.4332\n",
      "Epoch 69/100\n",
      "54000/54000 [==============================] - 0s 3us/sample - loss: 1.5590 - accuracy: 0.4268 - val_loss: 1.5501 - val_accuracy: 0.4395\n",
      "Epoch 70/100\n",
      "54000/54000 [==============================] - 0s 3us/sample - loss: 1.5474 - accuracy: 0.4335 - val_loss: 1.5395 - val_accuracy: 0.4480\n",
      "Epoch 71/100\n",
      "54000/54000 [==============================] - 0s 3us/sample - loss: 1.5358 - accuracy: 0.4457 - val_loss: 1.5288 - val_accuracy: 0.4638\n",
      "Epoch 72/100\n",
      "54000/54000 [==============================] - 0s 3us/sample - loss: 1.5248 - accuracy: 0.4624 - val_loss: 1.5189 - val_accuracy: 0.4558\n",
      "Epoch 73/100\n",
      "54000/54000 [==============================] - 0s 3us/sample - loss: 1.5145 - accuracy: 0.4578 - val_loss: 1.5088 - val_accuracy: 0.4640\n",
      "Epoch 74/100\n",
      "54000/54000 [==============================] - 0s 3us/sample - loss: 1.5034 - accuracy: 0.4640 - val_loss: 1.4990 - val_accuracy: 0.4522\n",
      "Epoch 75/100\n",
      "54000/54000 [==============================] - 0s 3us/sample - loss: 1.4926 - accuracy: 0.4488 - val_loss: 1.4896 - val_accuracy: 0.4522\n",
      "Epoch 76/100\n",
      "54000/54000 [==============================] - 0s 3us/sample - loss: 1.4827 - accuracy: 0.4447 - val_loss: 1.4802 - val_accuracy: 0.4613\n",
      "Epoch 77/100\n",
      "54000/54000 [==============================] - 0s 3us/sample - loss: 1.4729 - accuracy: 0.4596 - val_loss: 1.4708 - val_accuracy: 0.4723\n",
      "Epoch 78/100\n",
      "54000/54000 [==============================] - 0s 3us/sample - loss: 1.4631 - accuracy: 0.4711 - val_loss: 1.4618 - val_accuracy: 0.4480\n",
      "Epoch 79/100\n",
      "54000/54000 [==============================] - 0s 3us/sample - loss: 1.4539 - accuracy: 0.4496 - val_loss: 1.4530 - val_accuracy: 0.4487\n",
      "Epoch 80/100\n",
      "54000/54000 [==============================] - 0s 4us/sample - loss: 1.4450 - accuracy: 0.4498 - val_loss: 1.4439 - val_accuracy: 0.4583\n",
      "Epoch 81/100\n",
      "54000/54000 [==============================] - 0s 3us/sample - loss: 1.4363 - accuracy: 0.4614 - val_loss: 1.4347 - val_accuracy: 0.4818\n",
      "Epoch 82/100\n",
      "54000/54000 [==============================] - 0s 3us/sample - loss: 1.4278 - accuracy: 0.4850 - val_loss: 1.4260 - val_accuracy: 0.5450\n",
      "Epoch 83/100\n",
      "54000/54000 [==============================] - 0s 3us/sample - loss: 1.4197 - accuracy: 0.5326 - val_loss: 1.4181 - val_accuracy: 0.5455\n",
      "Epoch 84/100\n",
      "54000/54000 [==============================] - 0s 3us/sample - loss: 1.4116 - accuracy: 0.5348 - val_loss: 1.4097 - val_accuracy: 0.5605\n",
      "Epoch 85/100\n",
      "54000/54000 [==============================] - 0s 3us/sample - loss: 1.4031 - accuracy: 0.5532 - val_loss: 1.4013 - val_accuracy: 0.5377\n",
      "Epoch 86/100\n",
      "54000/54000 [==============================] - 0s 5us/sample - loss: 1.3946 - accuracy: 0.5329 - val_loss: 1.3922 - val_accuracy: 0.5427\n",
      "Epoch 87/100\n",
      "54000/54000 [==============================] - 0s 3us/sample - loss: 1.3858 - accuracy: 0.5397 - val_loss: 1.3826 - val_accuracy: 0.5702\n",
      "Epoch 88/100\n",
      "54000/54000 [==============================] - 0s 3us/sample - loss: 1.3772 - accuracy: 0.5656 - val_loss: 1.3735 - val_accuracy: 0.5698\n",
      "Epoch 89/100\n",
      "54000/54000 [==============================] - 0s 3us/sample - loss: 1.3691 - accuracy: 0.5624 - val_loss: 1.3645 - val_accuracy: 0.5765\n",
      "Epoch 90/100\n",
      "54000/54000 [==============================] - 0s 3us/sample - loss: 1.3604 - accuracy: 0.5708 - val_loss: 1.3548 - val_accuracy: 0.5632\n",
      "Epoch 91/100\n",
      "54000/54000 [==============================] - 0s 3us/sample - loss: 1.3513 - accuracy: 0.5579 - val_loss: 1.3452 - val_accuracy: 0.5648\n",
      "Epoch 92/100\n",
      "54000/54000 [==============================] - 0s 3us/sample - loss: 1.3421 - accuracy: 0.5599 - val_loss: 1.3351 - val_accuracy: 0.5705\n",
      "Epoch 93/100\n",
      "54000/54000 [==============================] - 0s 3us/sample - loss: 1.3328 - accuracy: 0.5653 - val_loss: 1.3243 - val_accuracy: 0.5755\n",
      "Epoch 94/100\n",
      "54000/54000 [==============================] - 0s 3us/sample - loss: 1.3228 - accuracy: 0.5701 - val_loss: 1.3138 - val_accuracy: 0.5795\n",
      "Epoch 95/100\n",
      "54000/54000 [==============================] - 0s 3us/sample - loss: 1.3132 - accuracy: 0.5746 - val_loss: 1.3037 - val_accuracy: 0.5852\n",
      "Epoch 96/100\n",
      "54000/54000 [==============================] - 0s 3us/sample - loss: 1.3038 - accuracy: 0.5785 - val_loss: 1.2940 - val_accuracy: 0.5850\n",
      "Epoch 97/100\n",
      "54000/54000 [==============================] - 0s 2us/sample - loss: 1.2948 - accuracy: 0.5786 - val_loss: 1.2844 - val_accuracy: 0.5882\n",
      "Epoch 98/100\n",
      "54000/54000 [==============================] - 0s 3us/sample - loss: 1.2858 - accuracy: 0.5816 - val_loss: 1.2756 - val_accuracy: 0.5922\n",
      "Epoch 99/100\n",
      "54000/54000 [==============================] - 0s 2us/sample - loss: 1.2775 - accuracy: 0.5848 - val_loss: 1.2674 - val_accuracy: 0.5940\n",
      "Epoch 100/100\n",
      "54000/54000 [==============================] - 0s 2us/sample - loss: 1.2691 - accuracy: 0.5870 - val_loss: 1.2585 - val_accuracy: 0.5963\n",
      "10000/10000 [==============================] - 0s 26us/sample - loss: 1.2945 - accuracy: 0.5822\n",
      "accuracy: 58.21999907493591\n"
     ]
    }
   ],
   "source": [
    "history = fashion_model.fit(X_train, y_train, batch_size=50000, epochs=100, validation_split=.1, verbose=1)\n",
    "scores = fashion_model.evaluate(X_test, y_test)\n",
    "print(f'{fashion_model.metrics_names[1]}: {scores[1]*100}')"
   ]
  },
  {
   "cell_type": "code",
   "execution_count": 146,
   "metadata": {},
   "outputs": [
    {
     "data": {
      "text/plain": [
       "dict_keys(['loss', 'accuracy', 'val_loss', 'val_accuracy'])"
      ]
     },
     "execution_count": 146,
     "metadata": {},
     "output_type": "execute_result"
    }
   ],
   "source": [
    "history.history.keys()"
   ]
  },
  {
   "cell_type": "code",
   "execution_count": 147,
   "metadata": {},
   "outputs": [
    {
     "data": {
      "image/png": "[encoded data removed]",
      "text/plain": [
       "<Figure size 432x288 with 1 Axes>"
      ]
     },
     "metadata": {
      "needs_background": "light"
     },
     "output_type": "display_data"
    }
   ],
   "source": [
    "plt.plot(history.history['loss'])\n",
    "plt.plot(history.history['val_loss'])\n",
    "plt.title('Model Loss')\n",
    "plt.ylabel('loss')\n",
    "plt.xlabel('epoch')\n",
    "plt.legend(['train', 'test'], loc='upper right')\n",
    "plt.show()"
   ]
  },
  {
   "cell_type": "code",
   "execution_count": 148,
   "metadata": {},
   "outputs": [
    {
     "data": {
      "image/png": "[encoded data removed]",
      "text/plain": [
       "<Figure size 432x288 with 1 Axes>"
      ]
     },
     "metadata": {
      "needs_background": "light"
     },
     "output_type": "display_data"
    }
   ],
   "source": [
    "plt.plot(history.history['accuracy'])\n",
    "plt.plot(history.history['val_loss'])\n",
    "plt.title('Model Accuracy')\n",
    "plt.ylabel('loss')\n",
    "plt.xlabel('epoch')\n",
    "plt.legend(['train', 'test'], loc='upper right')\n",
    "plt.show()"
   ]
  },
  {
   "cell_type": "markdown",
   "metadata": {
    "colab_type": "text",
    "id": "zv_3xNMjzdLI"
   },
   "source": [
    "## Stretch Goals:\n",
    "\n",
    "- Use Hyperparameter Tuning to make the accuracy of your models as high as possible. (error as low as possible)\n",
    "- Use Cross Validation techniques to get more consistent results with your model.\n",
    "- Use GridSearchCV to try different combinations of hyperparameters. \n",
    "- Start looking into other types of Keras layers for CNNs and RNNs maybe try and build a CNN model for fashion-MNIST to see how the results compare."
   ]
  }
 ],
 "metadata": {
  "colab": {
   "name": "LS_DS_433_Keras_Assignment.ipynb",
   "provenance": [],
   "version": "0.3.2"
  },
  "kernelspec": {
   "display_name": "U4S1DS10 (Python 3.7)",
   "language": "python",
   "name": "u4-s1-nlp-ds10"
  },
  "language_info": {
   "codemirror_mode": {
    "name": "ipython",
    "version": 3
   },
   "file_extension": ".py",
   "mimetype": "text/x-python",
   "name": "python",
   "nbconvert_exporter": "python",
   "pygments_lexer": "ipython3",
   "version": "3.7.0"
  }
 },
 "nbformat": 4,
 "nbformat_minor": 4
}
